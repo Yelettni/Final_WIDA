{
 "cells": [
  {
   "cell_type": "markdown",
   "id": "a000609c",
   "metadata": {},
   "source": [
    "WIDA -DATATHON ACADEMICO"
   ]
  },
  {
   "cell_type": "markdown",
   "id": "e67c0ad3",
   "metadata": {},
   "source": [
    "Importamos las librerias que utilizaremos"
   ]
  },
  {
   "cell_type": "code",
   "execution_count": 42,
   "id": "4f3ff4be",
   "metadata": {},
   "outputs": [],
   "source": [
    "\n",
    "import pandas as pd\n",
    "import numpy as np\n",
    "import matplotlib.pyplot as plt\n",
    "import seaborn as sns\n",
    "\n",
    "\n"
   ]
  },
  {
   "cell_type": "markdown",
   "id": "db24a239",
   "metadata": {},
   "source": [
    "Cargamos el dataset "
   ]
  },
  {
   "cell_type": "code",
   "execution_count": 43,
   "id": "4df49cad",
   "metadata": {},
   "outputs": [],
   "source": [
    "df = pd.read_csv('ESTADISTICAS_EN_EDUCACION_POR_MUNICIPIO.csv')\n"
   ]
  },
  {
   "cell_type": "markdown",
   "id": "6b6abcbb",
   "metadata": {},
   "source": [
    "Iniciamos exploracion y visualizamos las 5 primeras filas"
   ]
  },
  {
   "cell_type": "code",
   "execution_count": 15,
   "id": "92a07a14",
   "metadata": {},
   "outputs": [
    {
     "name": "stdout",
     "output_type": "stream",
     "text": [
      "    AÑO  CÓDIGO_MUNICIPIO   MUNICIPIO  CÓDIGO_DEPARTAMENTO DEPARTAMENTO  \\\n",
      "0  2023              5001    Medellín                    5    Antioquia   \n",
      "1  2023              5002   Abejorral                    5    Antioquia   \n",
      "2  2023              5004    Abriaquí                    5    Antioquia   \n",
      "3  2023              5021  Alejandría                    5    Antioquia   \n",
      "4  2023              5030       Amagá                    5    Antioquia   \n",
      "\n",
      "   CÓDIGO_ETC              ETC POBLACIÓN_5_16  TASA_MATRICULACIÓN_5_16  \\\n",
      "0      3759.0         Medellín         377562                    96.15   \n",
      "1      3758.0  Antioquia (ETC)           3634                    74.38   \n",
      "2      3758.0  Antioquia (ETC)            503                    62.62   \n",
      "3      3758.0  Antioquia (ETC)            864                    81.37   \n",
      "4      3758.0  Antioquia (ETC)           5060                    78.30   \n",
      "\n",
      "   COBERTURA_NETA  COBERTURA_NETA_TRANSICIÓN  COBERTURA_NETA_PRIMARIA  \\\n",
      "0           95.94                      81.42                    94.01   \n",
      "1           74.38                      50.55                    74.32   \n",
      "2           62.62                      44.19                    63.33   \n",
      "3           81.37                      61.45                    73.21   \n",
      "4           78.30                      67.65                    76.96   \n",
      "\n",
      "   COBERTURA_NETA_SECUNDARIA  COBERTURA_NETA_MEDIA  COBERTURA_BRUTA  \\\n",
      "0                      83.58                 57.69           107.16   \n",
      "1                      63.78                 40.95            81.54   \n",
      "2                      51.53                 40.23            66.80   \n",
      "3                      77.74                 73.08            85.19   \n",
      "4                      65.61                 38.82            89.21   \n",
      "\n",
      "   COBERTURA_BRUTA_TRANSICIÓN  COBERTURA_BRUTA_PRIMARIA  \\\n",
      "0                       94.23                    105.58   \n",
      "1                       65.93                     87.91   \n",
      "2                       58.14                     72.86   \n",
      "3                       75.90                     79.31   \n",
      "4                       84.69                     88.94   \n",
      "\n",
      "   COBERTURA_BRUTA_SECUNDARIA  COBERTURA_BRUTA_MEDIA  \\\n",
      "0                      115.53                 100.69   \n",
      "1                       83.40                  69.68   \n",
      "2                       66.87                  56.32   \n",
      "3                       90.88                  96.15   \n",
      "4                       94.72                  81.27   \n",
      "\n",
      "   TAMAÑO_PROMEDIO_DE_GRUPO  SEDES_CONECTADAS_A_INTERNET  DESERCIÓN  \\\n",
      "0                       NaN                          NaN       5.40   \n",
      "1                       NaN                          NaN       4.15   \n",
      "2                       NaN                          NaN       1.19   \n",
      "3                       NaN                          NaN       3.26   \n",
      "4                       NaN                          NaN       4.33   \n",
      "\n",
      "   DESERCIÓN_TRANSICIÓN  DESERCIÓN_PRIMARIA  DESERCIÓN_SECUNDARIA  \\\n",
      "0                  4.84                4.85                  6.75   \n",
      "1                  3.33                2.86                  6.36   \n",
      "2                  0.00                1.31                  0.00   \n",
      "3                  1.59                1.67                  6.02   \n",
      "4                  4.37                3.12                  6.32   \n",
      "\n",
      "   DESERCIÓN_MEDIA  APROBACIÓN  APROBACIÓN_TRANSICIÓN  APROBACIÓN_PRIMARIA  \\\n",
      "0             3.93       85.37                   0.15                88.95   \n",
      "1             3.03       88.08                   0.56                89.88   \n",
      "2             4.08       92.26                   0.00                96.73   \n",
      "3             2.40       88.86                   0.00                91.30   \n",
      "4             3.04       84.95                   0.00                87.25   \n",
      "\n",
      "   APROBACIÓN_SECUNDARIA  APROBACIÓN_MEDIA  REPROBACIÓN  \\\n",
      "0                  77.84             88.80         9.23   \n",
      "1                  82.70             92.56         7.77   \n",
      "2                  83.49             93.88         6.55   \n",
      "3                  80.32             95.20         7.88   \n",
      "4                  77.20             91.46        10.71   \n",
      "\n",
      "   REPROBACIÓN_TRANSICIÓN  REPROBACIÓN_PRIMARIA  REPROBACIÓN_SECUNDARIA  \\\n",
      "0                    0.15                  6.21                   15.40   \n",
      "1                    0.56                  7.26                   10.93   \n",
      "2                    0.00                  1.96                   16.51   \n",
      "3                    0.00                  7.02                   13.65   \n",
      "4                    0.00                  9.63                   16.48   \n",
      "\n",
      "   REPROBACIÓN_MEDIA  REPITENCIA  REPITENCIA_TRANSICIÓN  REPITENCIA_PRIMARIA  \\\n",
      "0               7.27        9.25                   1.82                 8.34   \n",
      "1               4.41        9.07                   1.67                10.28   \n",
      "2               2.04        9.52                   0.00                10.46   \n",
      "3               2.40        7.20                   1.59                 7.69   \n",
      "4               5.50       12.08                   0.29                11.54   \n",
      "\n",
      "   REPITENCIA_SECUNDARIA  REPITENCIA_MEDIA  \n",
      "0                  13.69              4.48  \n",
      "1                  11.32              2.20  \n",
      "2                  13.76              2.04  \n",
      "3                  11.65              0.00  \n",
      "4                  18.48              3.98  \n"
     ]
    }
   ],
   "source": [
    "print (df.head())"
   ]
  },
  {
   "cell_type": "markdown",
   "id": "e363856c",
   "metadata": {},
   "source": [
    "Observamos tipos de datos"
   ]
  },
  {
   "cell_type": "code",
   "execution_count": 13,
   "id": "31df127e",
   "metadata": {},
   "outputs": [
    {
     "name": "stdout",
     "output_type": "stream",
     "text": [
      "<class 'pandas.core.frame.DataFrame'>\n",
      "RangeIndex: 14585 entries, 0 to 14584\n",
      "Data columns (total 41 columns):\n",
      " #   Column                       Non-Null Count  Dtype  \n",
      "---  ------                       --------------  -----  \n",
      " 0   AÑO                          14585 non-null  int64  \n",
      " 1   CÓDIGO_MUNICIPIO             14585 non-null  int64  \n",
      " 2   MUNICIPIO                    14585 non-null  object \n",
      " 3   CÓDIGO_DEPARTAMENTO          14585 non-null  int64  \n",
      " 4   DEPARTAMENTO                 14585 non-null  object \n",
      " 5   CÓDIGO_ETC                   14585 non-null  float64\n",
      " 6   ETC                          14585 non-null  object \n",
      " 7   POBLACIÓN_5_16               14579 non-null  object \n",
      " 8   TASA_MATRICULACIÓN_5_16      14470 non-null  float64\n",
      " 9   COBERTURA_NETA               14474 non-null  float64\n",
      " 10  COBERTURA_NETA_TRANSICIÓN    14533 non-null  float64\n",
      " 11  COBERTURA_NETA_PRIMARIA      14494 non-null  float64\n",
      " 12  COBERTURA_NETA_SECUNDARIA    14491 non-null  float64\n",
      " 13  COBERTURA_NETA_MEDIA         14492 non-null  float64\n",
      " 14  COBERTURA_BRUTA              14517 non-null  float64\n",
      " 15  COBERTURA_BRUTA_TRANSICIÓN   14488 non-null  float64\n",
      " 16  COBERTURA_BRUTA_PRIMARIA     14504 non-null  float64\n",
      " 17  COBERTURA_BRUTA_SECUNDARIA   14497 non-null  float64\n",
      " 18  COBERTURA_BRUTA_MEDIA        14458 non-null  float64\n",
      " 19  TAMAÑO_PROMEDIO_DE_GRUPO     7572 non-null   float64\n",
      " 20  SEDES_CONECTADAS_A_INTERNET  7768 non-null   float64\n",
      " 21  DESERCIÓN                    14443 non-null  float64\n",
      " 22  DESERCIÓN_TRANSICIÓN         13682 non-null  float64\n",
      " 23  DESERCIÓN_PRIMARIA           14343 non-null  float64\n",
      " 24  DESERCIÓN_SECUNDARIA         14315 non-null  float64\n",
      " 25  DESERCIÓN_MEDIA              13851 non-null  float64\n",
      " 26  APROBACIÓN                   14560 non-null  float64\n",
      " 27  APROBACIÓN_TRANSICIÓN        14492 non-null  float64\n",
      " 28  APROBACIÓN_PRIMARIA          14560 non-null  float64\n",
      " 29  APROBACIÓN_SECUNDARIA        14531 non-null  float64\n",
      " 30  APROBACIÓN_MEDIA             14484 non-null  float64\n",
      " 31  REPROBACIÓN                  14499 non-null  float64\n",
      " 32  REPROBACIÓN_TRANSICIÓN       14492 non-null  float64\n",
      " 33  REPROBACIÓN_PRIMARIA         14488 non-null  float64\n",
      " 34  REPROBACIÓN_SECUNDARIA       14479 non-null  float64\n",
      " 35  REPROBACIÓN_MEDIA            14440 non-null  float64\n",
      " 36  REPITENCIA                   14442 non-null  float64\n",
      " 37  REPITENCIA_TRANSICIÓN        14426 non-null  float64\n",
      " 38  REPITENCIA_PRIMARIA          14437 non-null  float64\n",
      " 39  REPITENCIA_SECUNDARIA        14433 non-null  float64\n",
      " 40  REPITENCIA_MEDIA             14446 non-null  float64\n",
      "dtypes: float64(34), int64(3), object(4)\n",
      "memory usage: 4.6+ MB\n"
     ]
    },
    {
     "data": {
      "application/vnd.microsoft.datawrangler.viewer.v0+json": {
       "columns": [
        {
         "name": "index",
         "rawType": "object",
         "type": "string"
        },
        {
         "name": "0",
         "rawType": "int64",
         "type": "integer"
        }
       ],
       "ref": "f2fdf3fe-a92f-4172-9ec7-5f128209e4dc",
       "rows": [
        [
         "AÑO",
         "0"
        ],
        [
         "CÓDIGO_MUNICIPIO",
         "0"
        ],
        [
         "MUNICIPIO",
         "0"
        ],
        [
         "CÓDIGO_DEPARTAMENTO",
         "0"
        ],
        [
         "DEPARTAMENTO",
         "0"
        ],
        [
         "CÓDIGO_ETC",
         "0"
        ],
        [
         "ETC",
         "0"
        ],
        [
         "POBLACIÓN_5_16",
         "6"
        ],
        [
         "TASA_MATRICULACIÓN_5_16",
         "115"
        ],
        [
         "COBERTURA_NETA",
         "111"
        ],
        [
         "COBERTURA_NETA_TRANSICIÓN",
         "52"
        ],
        [
         "COBERTURA_NETA_PRIMARIA",
         "91"
        ],
        [
         "COBERTURA_NETA_SECUNDARIA",
         "94"
        ],
        [
         "COBERTURA_NETA_MEDIA",
         "93"
        ],
        [
         "COBERTURA_BRUTA",
         "68"
        ],
        [
         "COBERTURA_BRUTA_TRANSICIÓN",
         "97"
        ],
        [
         "COBERTURA_BRUTA_PRIMARIA",
         "81"
        ],
        [
         "COBERTURA_BRUTA_SECUNDARIA",
         "88"
        ],
        [
         "COBERTURA_BRUTA_MEDIA",
         "127"
        ],
        [
         "TAMAÑO_PROMEDIO_DE_GRUPO",
         "7013"
        ],
        [
         "SEDES_CONECTADAS_A_INTERNET",
         "6817"
        ],
        [
         "DESERCIÓN",
         "142"
        ],
        [
         "DESERCIÓN_TRANSICIÓN",
         "903"
        ],
        [
         "DESERCIÓN_PRIMARIA",
         "242"
        ],
        [
         "DESERCIÓN_SECUNDARIA",
         "270"
        ],
        [
         "DESERCIÓN_MEDIA",
         "734"
        ],
        [
         "APROBACIÓN",
         "25"
        ],
        [
         "APROBACIÓN_TRANSICIÓN",
         "93"
        ],
        [
         "APROBACIÓN_PRIMARIA",
         "25"
        ],
        [
         "APROBACIÓN_SECUNDARIA",
         "54"
        ],
        [
         "APROBACIÓN_MEDIA",
         "101"
        ],
        [
         "REPROBACIÓN",
         "86"
        ],
        [
         "REPROBACIÓN_TRANSICIÓN",
         "93"
        ],
        [
         "REPROBACIÓN_PRIMARIA",
         "97"
        ],
        [
         "REPROBACIÓN_SECUNDARIA",
         "106"
        ],
        [
         "REPROBACIÓN_MEDIA",
         "145"
        ],
        [
         "REPITENCIA",
         "143"
        ],
        [
         "REPITENCIA_TRANSICIÓN",
         "159"
        ],
        [
         "REPITENCIA_PRIMARIA",
         "148"
        ],
        [
         "REPITENCIA_SECUNDARIA",
         "152"
        ],
        [
         "REPITENCIA_MEDIA",
         "139"
        ]
       ],
       "shape": {
        "columns": 1,
        "rows": 41
       }
      },
      "text/plain": [
       "AÑO                               0\n",
       "CÓDIGO_MUNICIPIO                  0\n",
       "MUNICIPIO                         0\n",
       "CÓDIGO_DEPARTAMENTO               0\n",
       "DEPARTAMENTO                      0\n",
       "CÓDIGO_ETC                        0\n",
       "ETC                               0\n",
       "POBLACIÓN_5_16                    6\n",
       "TASA_MATRICULACIÓN_5_16         115\n",
       "COBERTURA_NETA                  111\n",
       "COBERTURA_NETA_TRANSICIÓN        52\n",
       "COBERTURA_NETA_PRIMARIA          91\n",
       "COBERTURA_NETA_SECUNDARIA        94\n",
       "COBERTURA_NETA_MEDIA             93\n",
       "COBERTURA_BRUTA                  68\n",
       "COBERTURA_BRUTA_TRANSICIÓN       97\n",
       "COBERTURA_BRUTA_PRIMARIA         81\n",
       "COBERTURA_BRUTA_SECUNDARIA       88\n",
       "COBERTURA_BRUTA_MEDIA           127\n",
       "TAMAÑO_PROMEDIO_DE_GRUPO       7013\n",
       "SEDES_CONECTADAS_A_INTERNET    6817\n",
       "DESERCIÓN                       142\n",
       "DESERCIÓN_TRANSICIÓN            903\n",
       "DESERCIÓN_PRIMARIA              242\n",
       "DESERCIÓN_SECUNDARIA            270\n",
       "DESERCIÓN_MEDIA                 734\n",
       "APROBACIÓN                       25\n",
       "APROBACIÓN_TRANSICIÓN            93\n",
       "APROBACIÓN_PRIMARIA              25\n",
       "APROBACIÓN_SECUNDARIA            54\n",
       "APROBACIÓN_MEDIA                101\n",
       "REPROBACIÓN                      86\n",
       "REPROBACIÓN_TRANSICIÓN           93\n",
       "REPROBACIÓN_PRIMARIA             97\n",
       "REPROBACIÓN_SECUNDARIA          106\n",
       "REPROBACIÓN_MEDIA               145\n",
       "REPITENCIA                      143\n",
       "REPITENCIA_TRANSICIÓN           159\n",
       "REPITENCIA_PRIMARIA             148\n",
       "REPITENCIA_SECUNDARIA           152\n",
       "REPITENCIA_MEDIA                139\n",
       "dtype: int64"
      ]
     },
     "execution_count": 13,
     "metadata": {},
     "output_type": "execute_result"
    }
   ],
   "source": [
    "df.info()\n",
    "df.isnull().sum()"
   ]
  },
  {
   "cell_type": "markdown",
   "id": "0d5211ba",
   "metadata": {},
   "source": [
    "Cuantos registros tenemos"
   ]
  },
  {
   "cell_type": "code",
   "execution_count": 3,
   "id": "14aa7126",
   "metadata": {},
   "outputs": [
    {
     "data": {
      "text/plain": [
       "(14585, 41)"
      ]
     },
     "execution_count": 3,
     "metadata": {},
     "output_type": "execute_result"
    }
   ],
   "source": [
    "df.shape"
   ]
  },
  {
   "cell_type": "markdown",
   "id": "ece38bfd",
   "metadata": {},
   "source": [
    "Verificamos valores faltantes"
   ]
  },
  {
   "cell_type": "code",
   "execution_count": 44,
   "id": "18484fa0",
   "metadata": {},
   "outputs": [
    {
     "data": {
      "application/vnd.microsoft.datawrangler.viewer.v0+json": {
       "columns": [
        {
         "name": "index",
         "rawType": "object",
         "type": "string"
        },
        {
         "name": "0",
         "rawType": "int64",
         "type": "integer"
        }
       ],
       "ref": "9f42077f-b24f-41e0-8873-7e52c719b20a",
       "rows": [
        [
         "AÑO",
         "0"
        ],
        [
         "CÓDIGO_MUNICIPIO",
         "0"
        ],
        [
         "MUNICIPIO",
         "0"
        ],
        [
         "CÓDIGO_DEPARTAMENTO",
         "0"
        ],
        [
         "DEPARTAMENTO",
         "0"
        ],
        [
         "CÓDIGO_ETC",
         "0"
        ],
        [
         "ETC",
         "0"
        ],
        [
         "POBLACIÓN_5_16",
         "6"
        ],
        [
         "TASA_MATRICULACIÓN_5_16",
         "115"
        ],
        [
         "COBERTURA_NETA",
         "111"
        ],
        [
         "COBERTURA_NETA_TRANSICIÓN",
         "52"
        ],
        [
         "COBERTURA_NETA_PRIMARIA",
         "91"
        ],
        [
         "COBERTURA_NETA_SECUNDARIA",
         "94"
        ],
        [
         "COBERTURA_NETA_MEDIA",
         "93"
        ],
        [
         "COBERTURA_BRUTA",
         "68"
        ],
        [
         "COBERTURA_BRUTA_TRANSICIÓN",
         "97"
        ],
        [
         "COBERTURA_BRUTA_PRIMARIA",
         "81"
        ],
        [
         "COBERTURA_BRUTA_SECUNDARIA",
         "88"
        ],
        [
         "COBERTURA_BRUTA_MEDIA",
         "127"
        ],
        [
         "TAMAÑO_PROMEDIO_DE_GRUPO",
         "7013"
        ],
        [
         "SEDES_CONECTADAS_A_INTERNET",
         "6817"
        ],
        [
         "DESERCIÓN",
         "142"
        ],
        [
         "DESERCIÓN_TRANSICIÓN",
         "903"
        ],
        [
         "DESERCIÓN_PRIMARIA",
         "242"
        ],
        [
         "DESERCIÓN_SECUNDARIA",
         "270"
        ],
        [
         "DESERCIÓN_MEDIA",
         "734"
        ],
        [
         "APROBACIÓN",
         "25"
        ],
        [
         "APROBACIÓN_TRANSICIÓN",
         "93"
        ],
        [
         "APROBACIÓN_PRIMARIA",
         "25"
        ],
        [
         "APROBACIÓN_SECUNDARIA",
         "54"
        ],
        [
         "APROBACIÓN_MEDIA",
         "101"
        ],
        [
         "REPROBACIÓN",
         "86"
        ],
        [
         "REPROBACIÓN_TRANSICIÓN",
         "93"
        ],
        [
         "REPROBACIÓN_PRIMARIA",
         "97"
        ],
        [
         "REPROBACIÓN_SECUNDARIA",
         "106"
        ],
        [
         "REPROBACIÓN_MEDIA",
         "145"
        ],
        [
         "REPITENCIA",
         "143"
        ],
        [
         "REPITENCIA_TRANSICIÓN",
         "159"
        ],
        [
         "REPITENCIA_PRIMARIA",
         "148"
        ],
        [
         "REPITENCIA_SECUNDARIA",
         "152"
        ],
        [
         "REPITENCIA_MEDIA",
         "139"
        ]
       ],
       "shape": {
        "columns": 1,
        "rows": 41
       }
      },
      "text/plain": [
       "AÑO                               0\n",
       "CÓDIGO_MUNICIPIO                  0\n",
       "MUNICIPIO                         0\n",
       "CÓDIGO_DEPARTAMENTO               0\n",
       "DEPARTAMENTO                      0\n",
       "CÓDIGO_ETC                        0\n",
       "ETC                               0\n",
       "POBLACIÓN_5_16                    6\n",
       "TASA_MATRICULACIÓN_5_16         115\n",
       "COBERTURA_NETA                  111\n",
       "COBERTURA_NETA_TRANSICIÓN        52\n",
       "COBERTURA_NETA_PRIMARIA          91\n",
       "COBERTURA_NETA_SECUNDARIA        94\n",
       "COBERTURA_NETA_MEDIA             93\n",
       "COBERTURA_BRUTA                  68\n",
       "COBERTURA_BRUTA_TRANSICIÓN       97\n",
       "COBERTURA_BRUTA_PRIMARIA         81\n",
       "COBERTURA_BRUTA_SECUNDARIA       88\n",
       "COBERTURA_BRUTA_MEDIA           127\n",
       "TAMAÑO_PROMEDIO_DE_GRUPO       7013\n",
       "SEDES_CONECTADAS_A_INTERNET    6817\n",
       "DESERCIÓN                       142\n",
       "DESERCIÓN_TRANSICIÓN            903\n",
       "DESERCIÓN_PRIMARIA              242\n",
       "DESERCIÓN_SECUNDARIA            270\n",
       "DESERCIÓN_MEDIA                 734\n",
       "APROBACIÓN                       25\n",
       "APROBACIÓN_TRANSICIÓN            93\n",
       "APROBACIÓN_PRIMARIA              25\n",
       "APROBACIÓN_SECUNDARIA            54\n",
       "APROBACIÓN_MEDIA                101\n",
       "REPROBACIÓN                      86\n",
       "REPROBACIÓN_TRANSICIÓN           93\n",
       "REPROBACIÓN_PRIMARIA             97\n",
       "REPROBACIÓN_SECUNDARIA          106\n",
       "REPROBACIÓN_MEDIA               145\n",
       "REPITENCIA                      143\n",
       "REPITENCIA_TRANSICIÓN           159\n",
       "REPITENCIA_PRIMARIA             148\n",
       "REPITENCIA_SECUNDARIA           152\n",
       "REPITENCIA_MEDIA                139\n",
       "dtype: int64"
      ]
     },
     "execution_count": 44,
     "metadata": {},
     "output_type": "execute_result"
    }
   ],
   "source": [
    "df.isna().sum()  "
   ]
  },
  {
   "cell_type": "markdown",
   "id": "41ee2c97",
   "metadata": {},
   "source": [
    "Verificamos periodo de años"
   ]
  },
  {
   "cell_type": "code",
   "execution_count": 4,
   "id": "7989f709",
   "metadata": {},
   "outputs": [
    {
     "name": "stdout",
     "output_type": "stream",
     "text": [
      "[2023 2011 2019 2020 2012 2017 2021 2022 2013 2014 2015 2016 2018]\n"
     ]
    }
   ],
   "source": [
    "conteo_years = df['AÑO'].unique()\n",
    "print (conteo_years)"
   ]
  },
  {
   "cell_type": "markdown",
   "id": "73641c37",
   "metadata": {},
   "source": [
    "Verificamos y listamos todas las columnas para identificar variables mas importantes"
   ]
  },
  {
   "cell_type": "code",
   "execution_count": 8,
   "id": "3123dd1e",
   "metadata": {},
   "outputs": [
    {
     "data": {
      "text/plain": [
       "['AÑO',\n",
       " 'CÓDIGO_MUNICIPIO',\n",
       " 'MUNICIPIO',\n",
       " 'CÓDIGO_DEPARTAMENTO',\n",
       " 'DEPARTAMENTO',\n",
       " 'CÓDIGO_ETC',\n",
       " 'ETC',\n",
       " 'POBLACIÓN_5_16',\n",
       " 'TASA_MATRICULACIÓN_5_16',\n",
       " 'COBERTURA_NETA',\n",
       " 'COBERTURA_NETA_TRANSICIÓN',\n",
       " 'COBERTURA_NETA_PRIMARIA',\n",
       " 'COBERTURA_NETA_SECUNDARIA',\n",
       " 'COBERTURA_NETA_MEDIA',\n",
       " 'COBERTURA_BRUTA',\n",
       " 'COBERTURA_BRUTA_TRANSICIÓN',\n",
       " 'COBERTURA_BRUTA_PRIMARIA',\n",
       " 'COBERTURA_BRUTA_SECUNDARIA',\n",
       " 'COBERTURA_BRUTA_MEDIA',\n",
       " 'TAMAÑO_PROMEDIO_DE_GRUPO',\n",
       " 'SEDES_CONECTADAS_A_INTERNET',\n",
       " 'DESERCIÓN',\n",
       " 'DESERCIÓN_TRANSICIÓN',\n",
       " 'DESERCIÓN_PRIMARIA',\n",
       " 'DESERCIÓN_SECUNDARIA',\n",
       " 'DESERCIÓN_MEDIA',\n",
       " 'APROBACIÓN',\n",
       " 'APROBACIÓN_TRANSICIÓN',\n",
       " 'APROBACIÓN_PRIMARIA',\n",
       " 'APROBACIÓN_SECUNDARIA',\n",
       " 'APROBACIÓN_MEDIA',\n",
       " 'REPROBACIÓN',\n",
       " 'REPROBACIÓN_TRANSICIÓN',\n",
       " 'REPROBACIÓN_PRIMARIA',\n",
       " 'REPROBACIÓN_SECUNDARIA',\n",
       " 'REPROBACIÓN_MEDIA',\n",
       " 'REPITENCIA',\n",
       " 'REPITENCIA_TRANSICIÓN',\n",
       " 'REPITENCIA_PRIMARIA',\n",
       " 'REPITENCIA_SECUNDARIA',\n",
       " 'REPITENCIA_MEDIA']"
      ]
     },
     "execution_count": 8,
     "metadata": {},
     "output_type": "execute_result"
    }
   ],
   "source": [
    "pd.set_option(\"display.max_columns\",None)\n",
    "df.columns.tolist()"
   ]
  },
  {
   "cell_type": "markdown",
   "id": "fae5802e",
   "metadata": {},
   "source": [
    "Estadisticas descriptivas de variables importantes"
   ]
  },
  {
   "cell_type": "code",
   "execution_count": 12,
   "id": "7374dc15",
   "metadata": {},
   "outputs": [
    {
     "name": "stdout",
     "output_type": "stream",
     "text": [
      "ESTADÍSTICAS DESCRIPTIVAS DE VARIABLES IMPORTANTES:\n",
      "       COBERTURA_NETA  TASA_MATRICULACIÓN_5_16  COBERTURA_NETA_TRANSICIÓN  \\\n",
      "count    14474.000000             14470.000000               14533.000000   \n",
      "mean        85.553196                84.971929                  57.692378   \n",
      "std         16.932351                18.589112                  16.198610   \n",
      "min          0.000000                 0.000000                   0.000000   \n",
      "25%         76.890000                74.850000                  47.500000   \n",
      "50%         86.400000                85.330000                  57.900000   \n",
      "75%         94.540000                95.380000                  68.000000   \n",
      "max        264.540000               279.030000                 150.470000   \n",
      "\n",
      "       COBERTURA_NETA_PRIMARIA  COBERTURA_NETA_SECUNDARIA  \\\n",
      "count             14494.000000               14491.000000   \n",
      "mean                 82.566732                  69.905555   \n",
      "std                  17.203600                  18.830932   \n",
      "min                   0.000000                   0.000000   \n",
      "25%                  73.210000                  60.395000   \n",
      "50%                  82.830000                  70.900000   \n",
      "75%                  91.937500                  80.560000   \n",
      "max                 254.960000                 229.440000   \n",
      "\n",
      "       COBERTURA_NETA_MEDIA  COBERTURA_BRUTA  COBERTURA_BRUTA_TRANSICIÓN  \\\n",
      "count          14492.000000     14517.000000                14488.000000   \n",
      "mean              40.746976        99.695052                   87.130302   \n",
      "std               15.629011       148.679901                   25.565919   \n",
      "min                0.000000         0.000000                    0.000000   \n",
      "25%               31.110000        85.680000                   71.430000   \n",
      "50%               41.165000        97.500000                   85.210000   \n",
      "75%               50.540000       109.260000                  100.000000   \n",
      "max              170.260000     10448.000000                  259.290000   \n",
      "\n",
      "       COBERTURA_BRUTA_PRIMARIA  COBERTURA_BRUTA_SECUNDARIA  \\\n",
      "count              14504.000000                14497.000000   \n",
      "mean                 107.300973                  103.382421   \n",
      "std                  154.843799                  158.494880   \n",
      "min                    0.000000                    0.000000   \n",
      "25%                   89.800000                   86.510000   \n",
      "50%                  103.320000                  101.540000   \n",
      "75%                  117.700000                  115.740000   \n",
      "max                10936.000000                11065.000000   \n",
      "\n",
      "       COBERTURA_BRUTA_MEDIA  \n",
      "count           14458.000000  \n",
      "mean               75.855787  \n",
      "std                26.992694  \n",
      "min                 0.000000  \n",
      "25%                59.612500  \n",
      "50%                75.250000  \n",
      "75%                90.377500  \n",
      "max               489.620000  \n"
     ]
    }
   ],
   "source": [
    "\n",
    "\n",
    "variables_importantes = [\n",
    "    'COBERTURA_NETA', 'TASA_MATRICULACIÓN_5_16', 'COBERTURA_NETA_TRANSICIÓN',\n",
    "    'COBERTURA_NETA_PRIMARIA', 'COBERTURA_NETA_SECUNDARIA', 'COBERTURA_NETA_MEDIA',\n",
    "    'COBERTURA_BRUTA', 'COBERTURA_BRUTA_TRANSICIÓN', 'COBERTURA_BRUTA_PRIMARIA',\n",
    "    'COBERTURA_BRUTA_SECUNDARIA', 'COBERTURA_BRUTA_MEDIA'\n",
    "]\n",
    "\n",
    "print(\"ESTADÍSTICAS DESCRIPTIVAS DE VARIABLES IMPORTANTES:\")\n",
    "print(df[variables_importantes].describe())\n",
    "\n"
   ]
  },
  {
   "cell_type": "markdown",
   "id": "be9578cc",
   "metadata": {},
   "source": [
    "Realizamos la limpieza y preparamos los datos"
   ]
  },
  {
   "cell_type": "code",
   "execution_count": 16,
   "id": "663ffecc",
   "metadata": {},
   "outputs": [],
   "source": [
    "df_clean = df.copy()"
   ]
  },
  {
   "cell_type": "code",
   "execution_count": 25,
   "id": "6ef07a2b",
   "metadata": {},
   "outputs": [
    {
     "name": "stdout",
     "output_type": "stream",
     "text": [
      " Datos originales: 14585 filas\n",
      " \n",
      " VALORES FALTANTES POR COLUMNA:\n",
      "\n",
      " POBLACIÓN_5_16: 6 (0.0%)\n",
      " TASA_MATRICULACIÓN_5_16: 115 (0.8%)\n",
      " COBERTURA_NETA: 111 (0.8%)\n",
      " COBERTURA_NETA_TRANSICIÓN: 52 (0.4%)\n",
      " COBERTURA_NETA_PRIMARIA: 91 (0.6%)\n",
      " COBERTURA_NETA_SECUNDARIA: 94 (0.6%)\n",
      " COBERTURA_NETA_MEDIA: 93 (0.6%)\n",
      " COBERTURA_BRUTA: 68 (0.5%)\n",
      " COBERTURA_BRUTA_TRANSICIÓN: 97 (0.7%)\n",
      " COBERTURA_BRUTA_PRIMARIA: 81 (0.6%)\n",
      " COBERTURA_BRUTA_SECUNDARIA: 88 (0.6%)\n",
      " COBERTURA_BRUTA_MEDIA: 127 (0.9%)\n",
      " TAMAÑO_PROMEDIO_DE_GRUPO: 7013 (48.1%)\n",
      " SEDES_CONECTADAS_A_INTERNET: 6817 (46.7%)\n",
      " DESERCIÓN: 142 (1.0%)\n",
      " DESERCIÓN_TRANSICIÓN: 903 (6.2%)\n",
      " DESERCIÓN_PRIMARIA: 242 (1.7%)\n",
      " DESERCIÓN_SECUNDARIA: 270 (1.9%)\n",
      " DESERCIÓN_MEDIA: 734 (5.0%)\n",
      " APROBACIÓN: 25 (0.2%)\n",
      " APROBACIÓN_TRANSICIÓN: 93 (0.6%)\n",
      " APROBACIÓN_PRIMARIA: 25 (0.2%)\n",
      " APROBACIÓN_SECUNDARIA: 54 (0.4%)\n",
      " APROBACIÓN_MEDIA: 101 (0.7%)\n",
      " REPROBACIÓN: 86 (0.6%)\n",
      " REPROBACIÓN_TRANSICIÓN: 93 (0.6%)\n",
      " REPROBACIÓN_PRIMARIA: 97 (0.7%)\n",
      " REPROBACIÓN_SECUNDARIA: 106 (0.7%)\n",
      " REPROBACIÓN_MEDIA: 145 (1.0%)\n",
      " REPITENCIA: 143 (1.0%)\n",
      " REPITENCIA_TRANSICIÓN: 159 (1.1%)\n",
      " REPITENCIA_PRIMARIA: 148 (1.0%)\n",
      " REPITENCIA_SECUNDARIA: 152 (1.0%)\n",
      " REPITENCIA_MEDIA: 139 (1.0%)\n"
     ]
    }
   ],
   "source": [
    "print(f\" Datos originales: {df_clean.shape[0]} filas\")\n",
    "    \n",
    "    # 1. IDENTIFICAR VALORES FALTANTES\n",
    "print(\" \\n VALORES FALTANTES POR COLUMNA:\\n\")\n",
    "\n",
    "valores_faltantes = df_clean.isnull().sum()\n",
    "for col, faltantes in valores_faltantes.items():\n",
    "        if faltantes > 0:\n",
    "            porcentaje = (faltantes / len(df_clean)) * 100\n",
    "            print(f\" {col}: {faltantes} ({porcentaje:.1f}%)\")\n",
    "    \n",
    "if valores_faltantes.sum() == 0:\n",
    "        print(\"No hay valores faltantes\")"
   ]
  },
  {
   "cell_type": "markdown",
   "id": "ec4e13a0",
   "metadata": {},
   "source": [
    "Transformar variables a numericas"
   ]
  },
  {
   "cell_type": "markdown",
   "id": "fe056cc6",
   "metadata": {},
   "source": [
    "Creacion de variables para nuestra hipotesis"
   ]
  }
 ],
 "metadata": {
  "kernelspec": {
   "display_name": "Python 3",
   "language": "python",
   "name": "python3"
  },
  "language_info": {
   "codemirror_mode": {
    "name": "ipython",
    "version": 3
   },
   "file_extension": ".py",
   "mimetype": "text/x-python",
   "name": "python",
   "nbconvert_exporter": "python",
   "pygments_lexer": "ipython3",
   "version": "3.13.2"
  }
 },
 "nbformat": 4,
 "nbformat_minor": 5
}
